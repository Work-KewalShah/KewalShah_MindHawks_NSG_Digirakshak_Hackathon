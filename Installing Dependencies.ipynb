{
 "cells": [
  {
   "cell_type": "markdown",
   "metadata": {},
   "source": [
    "# 1. Install Dependencies"
   ]
  },
  {
   "cell_type": "code",
   "execution_count": null,
   "metadata": {},
   "outputs": [],
   "source": [
    "!pip3 install torch torchvision torchaudio"
   ]
  },
  {
   "cell_type": "code",
   "execution_count": 1,
   "metadata": {},
   "outputs": [
    {
     "name": "stderr",
     "output_type": "stream",
     "text": [
      "fatal: destination path 'yolov5' already exists and is not an empty directory.\n"
     ]
    }
   ],
   "source": [
    "!git clone https://github.com/ultralytics/yolov5"
   ]
  },
  {
   "cell_type": "code",
   "execution_count": 2,
   "metadata": {},
   "outputs": [
    {
     "name": "stdout",
     "output_type": "stream",
     "text": [
      "Collecting matplotlib>=3.2.2\n",
      "  Using cached matplotlib-3.5.2-cp39-cp39-win_amd64.whl (7.2 MB)\n",
      "Requirement already satisfied: numpy>=1.18.5 in c:\\kewal shah\\programming\\yolo5 rtod\\yolo5rtod2\\lib\\site-packages (from -r requirements.txt (line 6)) (1.23.1)\n",
      "Collecting opencv-python>=4.1.1\n",
      "  Using cached opencv_python-4.6.0.66-cp36-abi3-win_amd64.whl (35.6 MB)\n",
      "Requirement already satisfied: Pillow>=7.1.2 in c:\\kewal shah\\programming\\yolo5 rtod\\yolo5rtod2\\lib\\site-packages (from -r requirements.txt (line 8)) (9.2.0)\n",
      "Collecting PyYAML>=5.3.1\n",
      "  Using cached PyYAML-6.0-cp39-cp39-win_amd64.whl (151 kB)\n",
      "Collecting requests>=2.23.0\n",
      "  Using cached requests-2.28.1-py3-none-any.whl (62 kB)\n",
      "Collecting scipy>=1.4.1\n",
      "  Using cached scipy-1.8.1-cp39-cp39-win_amd64.whl (36.9 MB)\n",
      "Requirement already satisfied: torch>=1.7.0 in c:\\kewal shah\\programming\\yolo5 rtod\\yolo5rtod2\\lib\\site-packages (from -r requirements.txt (line 12)) (1.8.1+cu111)\n",
      "Requirement already satisfied: torchvision>=0.8.1 in c:\\kewal shah\\programming\\yolo5 rtod\\yolo5rtod2\\lib\\site-packages (from -r requirements.txt (line 13)) (0.9.1+cu111)\n",
      "Collecting tqdm>=4.64.0\n",
      "  Using cached tqdm-4.64.0-py2.py3-none-any.whl (78 kB)\n",
      "Collecting protobuf<4.21.3\n",
      "  Using cached protobuf-4.21.2-cp39-cp39-win_amd64.whl (524 kB)\n",
      "Collecting tensorboard>=2.4.1\n",
      "  Using cached tensorboard-2.9.1-py3-none-any.whl (5.8 MB)\n",
      "Collecting pandas>=1.1.4\n",
      "  Using cached pandas-1.4.3-cp39-cp39-win_amd64.whl (10.6 MB)\n",
      "Collecting seaborn>=0.11.0\n",
      "  Using cached seaborn-0.11.2-py3-none-any.whl (292 kB)\n",
      "Requirement already satisfied: ipython in c:\\kewal shah\\programming\\yolo5 rtod\\yolo5rtod2\\lib\\site-packages (from -r requirements.txt (line 37)) (8.4.0)\n",
      "Requirement already satisfied: psutil in c:\\kewal shah\\programming\\yolo5 rtod\\yolo5rtod2\\lib\\site-packages (from -r requirements.txt (line 38)) (5.9.1)\n",
      "Collecting thop>=0.1.1\n",
      "  Using cached thop-0.1.1.post2207130030-py3-none-any.whl (15 kB)\n",
      "Collecting cycler>=0.10\n",
      "  Using cached cycler-0.11.0-py3-none-any.whl (6.4 kB)\n",
      "Requirement already satisfied: python-dateutil>=2.7 in c:\\kewal shah\\programming\\yolo5 rtod\\yolo5rtod2\\lib\\site-packages (from matplotlib>=3.2.2->-r requirements.txt (line 5)) (2.8.2)\n",
      "Collecting kiwisolver>=1.0.1\n",
      "  Using cached kiwisolver-1.4.4-cp39-cp39-win_amd64.whl (55 kB)\n",
      "Requirement already satisfied: pyparsing>=2.2.1 in c:\\kewal shah\\programming\\yolo5 rtod\\yolo5rtod2\\lib\\site-packages (from matplotlib>=3.2.2->-r requirements.txt (line 5)) (3.0.9)\n",
      "Collecting fonttools>=4.22.0\n",
      "  Using cached fonttools-4.34.4-py3-none-any.whl (944 kB)\n",
      "Requirement already satisfied: packaging>=20.0 in c:\\kewal shah\\programming\\yolo5 rtod\\yolo5rtod2\\lib\\site-packages (from matplotlib>=3.2.2->-r requirements.txt (line 5)) (21.3)\n",
      "Collecting certifi>=2017.4.17\n",
      "  Using cached certifi-2022.6.15-py3-none-any.whl (160 kB)\n",
      "Collecting idna<4,>=2.5\n",
      "  Using cached idna-3.3-py3-none-any.whl (61 kB)\n",
      "Collecting urllib3<1.27,>=1.21.1\n",
      "  Downloading urllib3-1.26.11-py2.py3-none-any.whl (139 kB)\n",
      "     -------------------------------------- 139.9/139.9 kB 4.2 MB/s eta 0:00:00\n",
      "Collecting charset-normalizer<3,>=2\n",
      "  Using cached charset_normalizer-2.1.0-py3-none-any.whl (39 kB)\n",
      "Requirement already satisfied: typing-extensions in c:\\kewal shah\\programming\\yolo5 rtod\\yolo5rtod2\\lib\\site-packages (from torch>=1.7.0->-r requirements.txt (line 12)) (4.3.0)\n",
      "Requirement already satisfied: colorama in c:\\kewal shah\\programming\\yolo5 rtod\\yolo5rtod2\\lib\\site-packages (from tqdm>=4.64.0->-r requirements.txt (line 14)) (0.4.5)\n",
      "Collecting tensorboard-plugin-wit>=1.6.0\n",
      "  Using cached tensorboard_plugin_wit-1.8.1-py3-none-any.whl (781 kB)\n",
      "Collecting google-auth-oauthlib<0.5,>=0.4.1\n",
      "  Using cached google_auth_oauthlib-0.4.6-py2.py3-none-any.whl (18 kB)\n",
      "Collecting google-auth<3,>=1.6.3\n",
      "  Using cached google_auth-2.9.1-py2.py3-none-any.whl (167 kB)\n",
      "Collecting wheel>=0.26\n",
      "  Using cached wheel-0.37.1-py2.py3-none-any.whl (35 kB)\n",
      "Collecting protobuf<4.21.3\n",
      "  Using cached protobuf-3.19.4-cp39-cp39-win_amd64.whl (895 kB)\n",
      "Collecting werkzeug>=1.0.1\n",
      "  Downloading Werkzeug-2.2.1-py3-none-any.whl (232 kB)\n",
      "     ------------------------------------- 232.4/232.4 kB 13.9 MB/s eta 0:00:00\n",
      "Collecting markdown>=2.6.8\n",
      "  Using cached Markdown-3.4.1-py3-none-any.whl (93 kB)\n",
      "Collecting absl-py>=0.4\n",
      "  Using cached absl_py-1.2.0-py3-none-any.whl (123 kB)\n",
      "Collecting tensorboard-data-server<0.7.0,>=0.6.0\n",
      "  Using cached tensorboard_data_server-0.6.1-py3-none-any.whl (2.4 kB)\n",
      "Collecting grpcio>=1.24.3\n",
      "  Using cached grpcio-1.47.0-cp39-cp39-win_amd64.whl (3.6 MB)\n",
      "Requirement already satisfied: setuptools>=41.0.0 in c:\\kewal shah\\programming\\yolo5 rtod\\yolo5rtod2\\lib\\site-packages (from tensorboard>=2.4.1->-r requirements.txt (line 18)) (58.1.0)\n",
      "Collecting pytz>=2020.1\n",
      "  Using cached pytz-2022.1-py2.py3-none-any.whl (503 kB)\n",
      "Requirement already satisfied: pygments>=2.4.0 in c:\\kewal shah\\programming\\yolo5 rtod\\yolo5rtod2\\lib\\site-packages (from ipython->-r requirements.txt (line 37)) (2.12.0)\n",
      "Requirement already satisfied: backcall in c:\\kewal shah\\programming\\yolo5 rtod\\yolo5rtod2\\lib\\site-packages (from ipython->-r requirements.txt (line 37)) (0.2.0)\n",
      "Requirement already satisfied: stack-data in c:\\kewal shah\\programming\\yolo5 rtod\\yolo5rtod2\\lib\\site-packages (from ipython->-r requirements.txt (line 37)) (0.3.0)\n",
      "Requirement already satisfied: pickleshare in c:\\kewal shah\\programming\\yolo5 rtod\\yolo5rtod2\\lib\\site-packages (from ipython->-r requirements.txt (line 37)) (0.7.5)\n",
      "Requirement already satisfied: jedi>=0.16 in c:\\kewal shah\\programming\\yolo5 rtod\\yolo5rtod2\\lib\\site-packages (from ipython->-r requirements.txt (line 37)) (0.18.1)\n",
      "Requirement already satisfied: prompt-toolkit!=3.0.0,!=3.0.1,<3.1.0,>=2.0.0 in c:\\kewal shah\\programming\\yolo5 rtod\\yolo5rtod2\\lib\\site-packages (from ipython->-r requirements.txt (line 37)) (3.0.30)\n",
      "Requirement already satisfied: matplotlib-inline in c:\\kewal shah\\programming\\yolo5 rtod\\yolo5rtod2\\lib\\site-packages (from ipython->-r requirements.txt (line 37)) (0.1.3)\n",
      "Requirement already satisfied: decorator in c:\\kewal shah\\programming\\yolo5 rtod\\yolo5rtod2\\lib\\site-packages (from ipython->-r requirements.txt (line 37)) (5.1.1)\n",
      "Requirement already satisfied: traitlets>=5 in c:\\kewal shah\\programming\\yolo5 rtod\\yolo5rtod2\\lib\\site-packages (from ipython->-r requirements.txt (line 37)) (5.3.0)\n",
      "Collecting cachetools<6.0,>=2.0.0\n",
      "  Using cached cachetools-5.2.0-py3-none-any.whl (9.3 kB)\n",
      "Requirement already satisfied: six>=1.9.0 in c:\\kewal shah\\programming\\yolo5 rtod\\yolo5rtod2\\lib\\site-packages (from google-auth<3,>=1.6.3->tensorboard>=2.4.1->-r requirements.txt (line 18)) (1.16.0)\n",
      "Collecting rsa<5,>=3.1.4\n",
      "  Using cached rsa-4.9-py3-none-any.whl (34 kB)\n",
      "Collecting pyasn1-modules>=0.2.1\n",
      "  Using cached pyasn1_modules-0.2.8-py2.py3-none-any.whl (155 kB)\n",
      "Collecting requests-oauthlib>=0.7.0\n",
      "  Using cached requests_oauthlib-1.3.1-py2.py3-none-any.whl (23 kB)\n",
      "Requirement already satisfied: parso<0.9.0,>=0.8.0 in c:\\kewal shah\\programming\\yolo5 rtod\\yolo5rtod2\\lib\\site-packages (from jedi>=0.16->ipython->-r requirements.txt (line 37)) (0.8.3)\n",
      "Collecting importlib-metadata>=4.4\n",
      "  Using cached importlib_metadata-4.12.0-py3-none-any.whl (21 kB)\n",
      "Requirement already satisfied: wcwidth in c:\\kewal shah\\programming\\yolo5 rtod\\yolo5rtod2\\lib\\site-packages (from prompt-toolkit!=3.0.0,!=3.0.1,<3.1.0,>=2.0.0->ipython->-r requirements.txt (line 37)) (0.2.5)\n",
      "Requirement already satisfied: MarkupSafe>=2.1.1 in c:\\kewal shah\\programming\\yolo5 rtod\\yolo5rtod2\\lib\\site-packages (from werkzeug>=1.0.1->tensorboard>=2.4.1->-r requirements.txt (line 18)) (2.1.1)\n",
      "Requirement already satisfied: pure-eval in c:\\kewal shah\\programming\\yolo5 rtod\\yolo5rtod2\\lib\\site-packages (from stack-data->ipython->-r requirements.txt (line 37)) (0.2.2)\n",
      "Requirement already satisfied: executing in c:\\kewal shah\\programming\\yolo5 rtod\\yolo5rtod2\\lib\\site-packages (from stack-data->ipython->-r requirements.txt (line 37)) (0.9.1)\n",
      "Requirement already satisfied: asttokens in c:\\kewal shah\\programming\\yolo5 rtod\\yolo5rtod2\\lib\\site-packages (from stack-data->ipython->-r requirements.txt (line 37)) (2.0.5)\n",
      "Collecting zipp>=0.5\n",
      "  Using cached zipp-3.8.1-py3-none-any.whl (5.6 kB)\n",
      "Collecting pyasn1<0.5.0,>=0.4.6\n",
      "  Using cached pyasn1-0.4.8-py2.py3-none-any.whl (77 kB)\n",
      "Collecting oauthlib>=3.0.0\n",
      "  Using cached oauthlib-3.2.0-py3-none-any.whl (151 kB)\n",
      "Installing collected packages: tensorboard-plugin-wit, pytz, pyasn1, zipp, wheel, werkzeug, urllib3, tqdm, tensorboard-data-server, scipy, rsa, PyYAML, pyasn1-modules, protobuf, opencv-python, oauthlib, kiwisolver, idna, grpcio, fonttools, cycler, charset-normalizer, certifi, cachetools, absl-py, thop, requests, pandas, matplotlib, importlib-metadata, google-auth, seaborn, requests-oauthlib, markdown, google-auth-oauthlib, tensorboard\n",
      "Successfully installed PyYAML-6.0 absl-py-1.2.0 cachetools-5.2.0 certifi-2022.6.15 charset-normalizer-2.1.0 cycler-0.11.0 fonttools-4.34.4 google-auth-2.9.1 google-auth-oauthlib-0.4.6 grpcio-1.47.0 idna-3.3 importlib-metadata-4.12.0 kiwisolver-1.4.4 markdown-3.4.1 matplotlib-3.5.2 oauthlib-3.2.0 opencv-python-4.6.0.66 pandas-1.4.3 protobuf-3.19.4 pyasn1-0.4.8 pyasn1-modules-0.2.8 pytz-2022.1 requests-2.28.1 requests-oauthlib-1.3.1 rsa-4.9 scipy-1.8.1 seaborn-0.11.2 tensorboard-2.9.1 tensorboard-data-server-0.6.1 tensorboard-plugin-wit-1.8.1 thop-0.1.1.post2207130030 tqdm-4.64.0 urllib3-1.26.11 werkzeug-2.2.1 wheel-0.37.1 zipp-3.8.1\n"
     ]
    }
   ],
   "source": [
    "!cd yolov5 & pip install -r requirements.txt"
   ]
  },
  {
   "cell_type": "code",
   "execution_count": 1,
   "metadata": {},
   "outputs": [],
   "source": [
    "import torch\n",
    "from matplotlib import pyplot as plt\n",
    "import numpy as np\n",
    "import cv2\n",
    "import os"
   ]
  },
  {
   "cell_type": "markdown",
   "metadata": {},
   "source": [
    "# 2. Load Model For Checking"
   ]
  },
  {
   "cell_type": "code",
   "execution_count": 2,
   "metadata": {
    "scrolled": false
   },
   "outputs": [
    {
     "name": "stderr",
     "output_type": "stream",
     "text": [
      "Using cache found in C:\\Users\\Kewal Shah/.cache\\torch\\hub\\ultralytics_yolov5_master\n",
      "YOLOv5  2022-9-3 Python-3.9.10 torch-1.8.1+cu111 CUDA:0 (NVIDIA GeForce RTX 3050 Laptop GPU, 4096MiB)\n",
      "\n",
      "Fusing layers... \n",
      "YOLOv5s summary: 213 layers, 7225885 parameters, 0 gradients, 16.4 GFLOPs\n",
      "Adding AutoShape... \n"
     ]
    }
   ],
   "source": [
    "model = torch.hub.load('ultralytics/yolov5', 'yolov5s')"
   ]
  }
 ],
 "metadata": {
  "kernelspec": {
   "display_name": "Python 3 (ipykernel)",
   "language": "python",
   "name": "python3"
  },
  "language_info": {
   "codemirror_mode": {
    "name": "ipython",
    "version": 3
   },
   "file_extension": ".py",
   "mimetype": "text/x-python",
   "name": "python",
   "nbconvert_exporter": "python",
   "pygments_lexer": "ipython3",
   "version": "3.11.4"
  }
 },
 "nbformat": 4,
 "nbformat_minor": 2
}
